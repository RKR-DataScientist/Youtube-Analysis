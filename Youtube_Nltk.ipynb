{
  "nbformat": 4,
  "nbformat_minor": 0,
  "metadata": {
    "colab": {
      "name": "Youtube_Nltk.ipynb",
      "provenance": []
    },
    "kernelspec": {
      "name": "python3",
      "display_name": "Python 3"
    }
  },
  "cells": [
    {
      "cell_type": "code",
      "metadata": {
        "id": "6eL_T-FGtlyb"
      },
      "source": [
        "import pandas as pd\n",
        "import numpy as np"
      ],
      "execution_count": 13,
      "outputs": []
    },
    {
      "cell_type": "code",
      "metadata": {
        "id": "gK7spEDFtphR",
        "outputId": "a5a82c4f-6406-46d7-e38d-bcd714a4c97b",
        "colab": {
          "base_uri": "https://localhost:8080/",
          "height": 195
        }
      },
      "source": [
        "df = pd.read_excel(r'/Youtube_Data.xlsx')\n",
        "df.head()"
      ],
      "execution_count": 14,
      "outputs": [
        {
          "output_type": "execute_result",
          "data": {
            "text/html": [
              "<div>\n",
              "<style scoped>\n",
              "    .dataframe tbody tr th:only-of-type {\n",
              "        vertical-align: middle;\n",
              "    }\n",
              "\n",
              "    .dataframe tbody tr th {\n",
              "        vertical-align: top;\n",
              "    }\n",
              "\n",
              "    .dataframe thead th {\n",
              "        text-align: right;\n",
              "    }\n",
              "</style>\n",
              "<table border=\"1\" class=\"dataframe\">\n",
              "  <thead>\n",
              "    <tr style=\"text-align: right;\">\n",
              "      <th></th>\n",
              "      <th>brand_found</th>\n",
              "      <th>url</th>\n",
              "      <th>Status</th>\n",
              "    </tr>\n",
              "  </thead>\n",
              "  <tbody>\n",
              "    <tr>\n",
              "      <th>0</th>\n",
              "      <td>Binomo</td>\n",
              "      <td>https://binomo.com/in?a=5022f6c6c258&amp;ac=kashmi...</td>\n",
              "      <td>Relevant</td>\n",
              "    </tr>\n",
              "    <tr>\n",
              "      <th>1</th>\n",
              "      <td>Online Mutual Fund Investment in India | Inves...</td>\n",
              "      <td>https://groww.app.link/SuCoMg8SH7</td>\n",
              "      <td>Relevant</td>\n",
              "    </tr>\n",
              "    <tr>\n",
              "      <th>2</th>\n",
              "      <td>Rummy Online | Play Indian Rummy Games &amp; Win R...</td>\n",
              "      <td>https://www.rummycircle.com/play-rummy-win-cas...</td>\n",
              "      <td>Relevant</td>\n",
              "    </tr>\n",
              "    <tr>\n",
              "      <th>3</th>\n",
              "      <td>Angel BrokingAB-logo-DIY</td>\n",
              "      <td>https://itrade.angelbroking.com/</td>\n",
              "      <td>Relevant</td>\n",
              "    </tr>\n",
              "    <tr>\n",
              "      <th>4</th>\n",
              "      <td>VITA - Video Life on the AppStore</td>\n",
              "      <td>https://vita.onelink.me/8u5N/cfcd2050</td>\n",
              "      <td>Relevant</td>\n",
              "    </tr>\n",
              "  </tbody>\n",
              "</table>\n",
              "</div>"
            ],
            "text/plain": [
              "                                         brand_found  ...    Status\n",
              "0                                             Binomo  ...  Relevant\n",
              "1  Online Mutual Fund Investment in India | Inves...  ...  Relevant\n",
              "2  Rummy Online | Play Indian Rummy Games & Win R...  ...  Relevant\n",
              "3                           Angel BrokingAB-logo-DIY  ...  Relevant\n",
              "4                  VITA - Video Life on the AppStore  ...  Relevant\n",
              "\n",
              "[5 rows x 3 columns]"
            ]
          },
          "metadata": {
            "tags": []
          },
          "execution_count": 14
        }
      ]
    },
    {
      "cell_type": "code",
      "metadata": {
        "id": "1vpHjbnDuRHJ",
        "outputId": "cafb1337-f3a2-4dde-dc2f-35558c2c860c",
        "colab": {
          "base_uri": "https://localhost:8080/",
          "height": 67
        }
      },
      "source": [
        "df_title = pd.DataFrame(df, columns=[\"brand_found\"])\n",
        "df_link = pd.DataFrame(df, columns=[\"url\"])\n",
        "df_status = pd.DataFrame(df, columns=[\"status\"] )\n",
        "print(\"Title Counts :- \", df_title.shape)\n",
        "print(\" Links Counts :- \", df_link.shape)\n",
        "print(\"Status Counts :- \", df_status.shape)"
      ],
      "execution_count": 15,
      "outputs": [
        {
          "output_type": "stream",
          "text": [
            "Title Counts :-  (1241, 1)\n",
            " Links Counts :-  (1241, 1)\n",
            "Status Counts :-  (1241, 1)\n"
          ],
          "name": "stdout"
        }
      ]
    },
    {
      "cell_type": "code",
      "metadata": {
        "id": "p-BzAcMuHSlw",
        "outputId": "01737182-d1c2-4dab-9015-f9f4a487f4f0",
        "colab": {
          "base_uri": "https://localhost:8080/",
          "height": 67
        }
      },
      "source": [
        "df_titles = df[\"brand_found\"]\n",
        "df_links = df[\"url\"]\n",
        "df_statuss = df[\"Status\"] \n",
        "print(\"Title Counts :- \", df_title.shape)\n",
        "print(\" Links Counts :- \", df_link.shape)\n",
        "print(\"Status Counts :- \", df_status.shape)"
      ],
      "execution_count": 18,
      "outputs": [
        {
          "output_type": "stream",
          "text": [
            "Title Counts :-  (1241, 1)\n",
            " Links Counts :-  (1241, 1)\n",
            "Status Counts :-  (1241, 1)\n"
          ],
          "name": "stdout"
        }
      ]
    },
    {
      "cell_type": "code",
      "metadata": {
        "id": "G6IIJ3YNxZOz",
        "outputId": "0b8d8e02-5025-4463-a465-835489c80d95",
        "colab": {
          "base_uri": "https://localhost:8080/",
          "height": 34
        }
      },
      "source": [
        "len(df.index)"
      ],
      "execution_count": 19,
      "outputs": [
        {
          "output_type": "execute_result",
          "data": {
            "text/plain": [
              "1241"
            ]
          },
          "metadata": {
            "tags": []
          },
          "execution_count": 19
        }
      ]
    },
    {
      "cell_type": "code",
      "metadata": {
        "id": "L3ZYS6r7Iwax",
        "outputId": "6efa0366-1a7c-4beb-8e38-fd9053f9b60b",
        "colab": {
          "base_uri": "https://localhost:8080/",
          "height": 218
        }
      },
      "source": [
        "df_titles = df[\"brand_found\"].apply(str)\n",
        "df_titles"
      ],
      "execution_count": 22,
      "outputs": [
        {
          "output_type": "execute_result",
          "data": {
            "text/plain": [
              "0                                                  Binomo\n",
              "1       Online Mutual Fund Investment in India | Inves...\n",
              "2       Rummy Online | Play Indian Rummy Games & Win R...\n",
              "3                                Angel BrokingAB-logo-DIY\n",
              "4                       VITA - Video Life on the AppStore\n",
              "                              ...                        \n",
              "1236                FindMergePointOfLinkedList.cpp GitHub\n",
              "1237     Dropbox - Sai Ringtones.zip - Simplify your life\n",
              "1238                            SleekShop.com - Not Found\n",
              "1239                         geetazaildar.com coming soon\n",
              "1240     whatis-theplan.org - Registered at Namecheap.com\n",
              "Name: brand_found, Length: 1241, dtype: object"
            ]
          },
          "metadata": {
            "tags": []
          },
          "execution_count": 22
        }
      ]
    },
    {
      "cell_type": "code",
      "metadata": {
        "id": "5al1dOYTwxuf",
        "outputId": "ff19d78e-3093-4761-9ea0-45a243da09af",
        "colab": {
          "base_uri": "https://localhost:8080/",
          "height": 50
        }
      },
      "source": [
        "# let's do Word analyse\n",
        "import re\n",
        "import nltk\n",
        "nltk.download('stopwords')\n",
        "from nltk.corpus import stopwords\n",
        "from nltk.stem.porter import PorterStemmer"
      ],
      "execution_count": 20,
      "outputs": [
        {
          "output_type": "stream",
          "text": [
            "[nltk_data] Downloading package stopwords to /root/nltk_data...\n",
            "[nltk_data]   Package stopwords is already up-to-date!\n"
          ],
          "name": "stdout"
        }
      ]
    },
    {
      "cell_type": "code",
      "metadata": {
        "id": "v7thbDawxO-Q"
      },
      "source": [
        "corpus = []\n",
        "for i in range(0, 1241):\n",
        "  review = re.sub('[^a-zA-Z]', ' ', df_titles[i])\n",
        "  review = review.lower()\n",
        "  review = review.split()\n",
        "  ps = PorterStemmer()\n",
        "  review = [ps.stem(word) for word in review if not word in set(stopwords.words('english'))]\n",
        "  review = ' '.join(review)\n",
        "  corpus.append(review)"
      ],
      "execution_count": 23,
      "outputs": []
    },
    {
      "cell_type": "code",
      "metadata": {
        "id": "tWPsivUCJJ9g"
      },
      "source": [
        "dftitle = pd.DataFrame({'title':corpus})\n"
      ],
      "execution_count": 25,
      "outputs": []
    },
    {
      "cell_type": "code",
      "metadata": {
        "id": "d1MEfYBoJaOO",
        "outputId": "1cb83f51-0e3c-451a-de9e-2922c4eb8a79",
        "colab": {
          "base_uri": "https://localhost:8080/",
          "height": 195
        }
      },
      "source": [
        "new_df = pd.concat([df_links,dftitle, df_statuss ], axis=1)\n",
        "new_df.head()\n"
      ],
      "execution_count": 26,
      "outputs": [
        {
          "output_type": "execute_result",
          "data": {
            "text/html": [
              "<div>\n",
              "<style scoped>\n",
              "    .dataframe tbody tr th:only-of-type {\n",
              "        vertical-align: middle;\n",
              "    }\n",
              "\n",
              "    .dataframe tbody tr th {\n",
              "        vertical-align: top;\n",
              "    }\n",
              "\n",
              "    .dataframe thead th {\n",
              "        text-align: right;\n",
              "    }\n",
              "</style>\n",
              "<table border=\"1\" class=\"dataframe\">\n",
              "  <thead>\n",
              "    <tr style=\"text-align: right;\">\n",
              "      <th></th>\n",
              "      <th>url</th>\n",
              "      <th>title</th>\n",
              "      <th>Status</th>\n",
              "    </tr>\n",
              "  </thead>\n",
              "  <tbody>\n",
              "    <tr>\n",
              "      <th>0</th>\n",
              "      <td>https://binomo.com/in?a=5022f6c6c258&amp;ac=kashmi...</td>\n",
              "      <td>binomo</td>\n",
              "      <td>Relevant</td>\n",
              "    </tr>\n",
              "    <tr>\n",
              "      <th>1</th>\n",
              "      <td>https://groww.app.link/SuCoMg8SH7</td>\n",
              "      <td>onlin mutual fund invest india invest direct m...</td>\n",
              "      <td>Relevant</td>\n",
              "    </tr>\n",
              "    <tr>\n",
              "      <th>2</th>\n",
              "      <td>https://www.rummycircle.com/play-rummy-win-cas...</td>\n",
              "      <td>rummi onlin play indian rummi game win real ca...</td>\n",
              "      <td>Relevant</td>\n",
              "    </tr>\n",
              "    <tr>\n",
              "      <th>3</th>\n",
              "      <td>https://itrade.angelbroking.com/</td>\n",
              "      <td>angel brokingab logo diy</td>\n",
              "      <td>Relevant</td>\n",
              "    </tr>\n",
              "    <tr>\n",
              "      <th>4</th>\n",
              "      <td>https://vita.onelink.me/8u5N/cfcd2050</td>\n",
              "      <td>vita video life appstor</td>\n",
              "      <td>Relevant</td>\n",
              "    </tr>\n",
              "  </tbody>\n",
              "</table>\n",
              "</div>"
            ],
            "text/plain": [
              "                                                 url  ...    Status\n",
              "0  https://binomo.com/in?a=5022f6c6c258&ac=kashmi...  ...  Relevant\n",
              "1                  https://groww.app.link/SuCoMg8SH7  ...  Relevant\n",
              "2  https://www.rummycircle.com/play-rummy-win-cas...  ...  Relevant\n",
              "3                   https://itrade.angelbroking.com/  ...  Relevant\n",
              "4              https://vita.onelink.me/8u5N/cfcd2050  ...  Relevant\n",
              "\n",
              "[5 rows x 3 columns]"
            ]
          },
          "metadata": {
            "tags": []
          },
          "execution_count": 26
        }
      ]
    },
    {
      "cell_type": "code",
      "metadata": {
        "id": "X7oAla0gLd88"
      },
      "source": [
        "from sklearn.feature_extraction.text import CountVectorizer\n",
        "cv = CountVectorizer()\n"
      ],
      "execution_count": 58,
      "outputs": []
    },
    {
      "cell_type": "code",
      "metadata": {
        "id": "JWF1-cj2MIdl"
      },
      "source": [
        "X = cv.fit_transform(corpus).toarray()\n",
        "Y = new_df.iloc[:, 2].values"
      ],
      "execution_count": 59,
      "outputs": []
    },
    {
      "cell_type": "code",
      "metadata": {
        "id": "NmlUEkPmTMTU",
        "outputId": "24ce57c3-7966-40b7-b496-93bef8041214",
        "colab": {
          "base_uri": "https://localhost:8080/",
          "height": 50
        }
      },
      "source": [
        "print(X.shape)\n",
        "print(Y.shape)"
      ],
      "execution_count": 60,
      "outputs": [
        {
          "output_type": "stream",
          "text": [
            "(1241, 3334)\n",
            "(1241,)\n"
          ],
          "name": "stdout"
        }
      ]
    },
    {
      "cell_type": "code",
      "metadata": {
        "id": "qLCramK9Mev4"
      },
      "source": [
        "from sklearn.model_selection import train_test_split\n",
        "X_train, X_test, Y_train, Y_test = train_test_split(X, Y, test_size = 0.20, random_state = 42)"
      ],
      "execution_count": 61,
      "outputs": []
    },
    {
      "cell_type": "code",
      "metadata": {
        "id": "TjNnrOiNS0XK",
        "outputId": "8e156d7b-7b2f-4577-d692-e0d8856e19f5",
        "colab": {
          "base_uri": "https://localhost:8080/",
          "height": 84
        }
      },
      "source": [
        "print(X_train.shape) \n",
        "print(X_test.shape) \n",
        "print(Y_train.shape) \n",
        "print(Y_test.shape)"
      ],
      "execution_count": 62,
      "outputs": [
        {
          "output_type": "stream",
          "text": [
            "(992, 3334)\n",
            "(249, 3334)\n",
            "(992,)\n",
            "(249,)\n"
          ],
          "name": "stdout"
        }
      ]
    },
    {
      "cell_type": "code",
      "metadata": {
        "id": "yGB5QhQMM0v5",
        "outputId": "cd85b1c9-f953-422c-d9ca-b69d3db096f6",
        "colab": {
          "base_uri": "https://localhost:8080/",
          "height": 151
        }
      },
      "source": [
        "from sklearn.ensemble import RandomForestClassifier\n",
        "classifier = RandomForestClassifier(n_estimators = 1000, criterion='entropy')\n",
        "classifier.fit(X_train, Y_train)"
      ],
      "execution_count": 63,
      "outputs": [
        {
          "output_type": "execute_result",
          "data": {
            "text/plain": [
              "RandomForestClassifier(bootstrap=True, ccp_alpha=0.0, class_weight=None,\n",
              "                       criterion='entropy', max_depth=None, max_features='auto',\n",
              "                       max_leaf_nodes=None, max_samples=None,\n",
              "                       min_impurity_decrease=0.0, min_impurity_split=None,\n",
              "                       min_samples_leaf=1, min_samples_split=2,\n",
              "                       min_weight_fraction_leaf=0.0, n_estimators=1000,\n",
              "                       n_jobs=None, oob_score=False, random_state=None,\n",
              "                       verbose=0, warm_start=False)"
            ]
          },
          "metadata": {
            "tags": []
          },
          "execution_count": 63
        }
      ]
    },
    {
      "cell_type": "code",
      "metadata": {
        "id": "7rqrrKQvNXDN",
        "outputId": "438e80ca-c330-49e0-c429-34214fc1ed88",
        "colab": {
          "base_uri": "https://localhost:8080/",
          "height": 34
        }
      },
      "source": [
        "y_pred = classifier.predict(X_test)\n",
        "classifier.score(X_test, Y_test)"
      ],
      "execution_count": 64,
      "outputs": [
        {
          "output_type": "execute_result",
          "data": {
            "text/plain": [
              "0.7028112449799196"
            ]
          },
          "metadata": {
            "tags": []
          },
          "execution_count": 64
        }
      ]
    },
    {
      "cell_type": "code",
      "metadata": {
        "id": "uehn6CnUP9Nt",
        "outputId": "dd5a01f9-fb24-4b70-da1d-f9c7284c96ad",
        "colab": {
          "base_uri": "https://localhost:8080/",
          "height": 34
        }
      },
      "source": [
        "from sklearn.metrics import accuracy_score\n",
        "accuracy_score(Y_test, y_pred, normalize=False)"
      ],
      "execution_count": 65,
      "outputs": [
        {
          "output_type": "execute_result",
          "data": {
            "text/plain": [
              "175"
            ]
          },
          "metadata": {
            "tags": []
          },
          "execution_count": 65
        }
      ]
    },
    {
      "cell_type": "code",
      "metadata": {
        "id": "hyP6-LJ8Qh1q",
        "outputId": "d84a9879-7016-4c48-d5e7-11f3c84d3522",
        "colab": {
          "base_uri": "https://localhost:8080/",
          "height": 34
        }
      },
      "source": [
        "accuracy_score(Y_test, y_pred)"
      ],
      "execution_count": 66,
      "outputs": [
        {
          "output_type": "execute_result",
          "data": {
            "text/plain": [
              "0.7028112449799196"
            ]
          },
          "metadata": {
            "tags": []
          },
          "execution_count": 66
        }
      ]
    },
    {
      "cell_type": "code",
      "metadata": {
        "id": "uF81anTIRpyz",
        "outputId": "acb9cb80-8048-4b29-de4b-3e3adf10b470",
        "colab": {
          "base_uri": "https://localhost:8080/",
          "height": 50
        }
      },
      "source": [
        "# Confusion Matrics\n",
        "from sklearn.metrics import confusion_matrix\n",
        "confusion_matrix(Y_test, y_pred)"
      ],
      "execution_count": 67,
      "outputs": [
        {
          "output_type": "execute_result",
          "data": {
            "text/plain": [
              "array([[142,  26],\n",
              "       [ 48,  33]])"
            ]
          },
          "metadata": {
            "tags": []
          },
          "execution_count": 67
        }
      ]
    },
    {
      "cell_type": "markdown",
      "metadata": {
        "id": "0cGf8Xs5VUhe"
      },
      "source": [
        "Let's now define the most basic terms, which are whole numbers (not rates):\n",
        "\n",
        "- true positives (TP): These are cases in which we predicted yes (they have the disease), and they do have the disease.\n",
        "- true negatives (TN): We predicted no, and they don't have the disease.\n",
        "- false positives (FP): We predicted yes, but they don't actually have the disease. (Also known as a \"Type I error.\")\n",
        "- false negatives (FN): We predicted no, but they actually do have the disease. (Also known as a \"Type II error.\")"
      ]
    },
    {
      "cell_type": "code",
      "metadata": {
        "id": "LxjISaRNNbWN",
        "outputId": "f447c046-354d-44e5-9fca-9e1b43cf2e92",
        "colab": {
          "base_uri": "https://localhost:8080/",
          "height": 168
        }
      },
      "source": [
        "from sklearn.metrics import classification_report\n",
        "print(classification_report(Y_test, y_pred))"
      ],
      "execution_count": 68,
      "outputs": [
        {
          "output_type": "stream",
          "text": [
            "              precision    recall  f1-score   support\n",
            "\n",
            "  Irrelevant       0.75      0.85      0.79       168\n",
            "    Relevant       0.56      0.41      0.47        81\n",
            "\n",
            "    accuracy                           0.70       249\n",
            "   macro avg       0.65      0.63      0.63       249\n",
            "weighted avg       0.69      0.70      0.69       249\n",
            "\n"
          ],
          "name": "stdout"
        }
      ]
    },
    {
      "cell_type": "markdown",
      "metadata": {
        "id": "mR_9xaenVlwD"
      },
      "source": [
        "- Prevalence: How often does the yes condition actually occur in our sample?\n",
        "actual yes/total = 105/165 = 0.64\n",
        "- Recall – What percent of the positive cases did you catch? Recall is the ability of a classifier to find all positive instances.\n",
        "- F Score: This is a weighted average of the true positive rate (recall) and precision.\n",
        "- Support is the number of actual occurrences of the class in the specified dataset. Imbalanced support in the training data may indicate structural weaknesses in the reported scores of the classifier and could indicate the need for stratified sampling or rebalancing."
      ]
    },
    {
      "cell_type": "code",
      "metadata": {
        "id": "rxFFjSY5OVSl",
        "outputId": "c03efe3c-cc00-4c99-dfe4-6c1e782eb6f9",
        "colab": {
          "base_uri": "https://localhost:8080/",
          "height": 84
        }
      },
      "source": [
        "from sklearn.svm import SVC\n",
        "classifier1 = SVC(kernel = 'linear', random_state = 42)\n",
        "classifier1.fit(X_train, Y_train)"
      ],
      "execution_count": 69,
      "outputs": [
        {
          "output_type": "execute_result",
          "data": {
            "text/plain": [
              "SVC(C=1.0, break_ties=False, cache_size=200, class_weight=None, coef0=0.0,\n",
              "    decision_function_shape='ovr', degree=3, gamma='scale', kernel='linear',\n",
              "    max_iter=-1, probability=False, random_state=42, shrinking=True, tol=0.001,\n",
              "    verbose=False)"
            ]
          },
          "metadata": {
            "tags": []
          },
          "execution_count": 69
        }
      ]
    },
    {
      "cell_type": "code",
      "metadata": {
        "id": "HKL1dWTYOa1s",
        "outputId": "07d47b6d-514c-4eb0-a62b-101cec2eaf79",
        "colab": {
          "base_uri": "https://localhost:8080/",
          "height": 34
        }
      },
      "source": [
        "y_pred1 = classifier1.predict(X_test)\n",
        "classifier1.score(X_test, Y_test)"
      ],
      "execution_count": 70,
      "outputs": [
        {
          "output_type": "execute_result",
          "data": {
            "text/plain": [
              "0.7550200803212851"
            ]
          },
          "metadata": {
            "tags": []
          },
          "execution_count": 70
        }
      ]
    },
    {
      "cell_type": "code",
      "metadata": {
        "id": "A5SYmkaPOjWx",
        "outputId": "26c64fd8-3962-494e-b526-9bf87d5b9eab",
        "colab": {
          "base_uri": "https://localhost:8080/",
          "height": 134
        }
      },
      "source": [
        "from xgboost import XGBClassifier\n",
        "classifier3 = XGBClassifier()\n",
        "classifier3.fit(X_train, Y_train)"
      ],
      "execution_count": 71,
      "outputs": [
        {
          "output_type": "execute_result",
          "data": {
            "text/plain": [
              "XGBClassifier(base_score=0.5, booster='gbtree', colsample_bylevel=1,\n",
              "              colsample_bynode=1, colsample_bytree=1, gamma=0,\n",
              "              learning_rate=0.1, max_delta_step=0, max_depth=3,\n",
              "              min_child_weight=1, missing=None, n_estimators=100, n_jobs=1,\n",
              "              nthread=None, objective='binary:logistic', random_state=0,\n",
              "              reg_alpha=0, reg_lambda=1, scale_pos_weight=1, seed=None,\n",
              "              silent=None, subsample=1, verbosity=1)"
            ]
          },
          "metadata": {
            "tags": []
          },
          "execution_count": 71
        }
      ]
    },
    {
      "cell_type": "code",
      "metadata": {
        "id": "jSlCSMblOm38",
        "outputId": "00e7bfd9-4f1d-40b7-ac96-8c0a21e6e7f6",
        "colab": {
          "base_uri": "https://localhost:8080/",
          "height": 34
        }
      },
      "source": [
        "y_pred3 = classifier3.predict(X_test)\n",
        "classifier3.score(X_test, Y_test)"
      ],
      "execution_count": 72,
      "outputs": [
        {
          "output_type": "execute_result",
          "data": {
            "text/plain": [
              "0.714859437751004"
            ]
          },
          "metadata": {
            "tags": []
          },
          "execution_count": 72
        }
      ]
    }
  ]
}