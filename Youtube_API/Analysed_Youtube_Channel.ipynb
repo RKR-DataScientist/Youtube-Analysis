{
 "cells": [
  {
   "cell_type": "code",
   "execution_count": 1,
   "metadata": {},
   "outputs": [],
   "source": [
    "# Analyses of YOutube Stastistics\n",
    "import json\n",
    "import pandas as pd"
   ]
  },
  {
   "cell_type": "code",
   "execution_count": 2,
   "metadata": {},
   "outputs": [
    {
     "name": "stdout",
     "output_type": "stream",
     "text": [
      "UC7eHZXheF8nVOfwB2PEslMw\n"
     ]
    }
   ],
   "source": [
    "# let's read the file\n",
    "file = \"ashish_chanchlani_vines.json\"\n",
    "data = None\n",
    "with open(file, 'r') as f:\n",
    "    data = json.load(f)\n",
    "    \n",
    "channel_id, stats = data.popitem()\n",
    "print(channel_id)\n",
    "channel_stats = stats['channel_statistics']\n",
    "video_stats = stats[\"video_data\"]"
   ]
  },
  {
   "cell_type": "code",
   "execution_count": 3,
   "metadata": {},
   "outputs": [
    {
     "name": "stdout",
     "output_type": "stream",
     "text": [
      "Views :-  2350146686\n",
      "Subscriber :-  20900000\n",
      "Videos :-  138\n"
     ]
    }
   ],
   "source": [
    "# Ananlyse channel statistics\n",
    "print('Views :- ', channel_stats['viewCount'])\n",
    "print('Subscriber :- ', channel_stats['subscriberCount'])\n",
    "print('Videos :- ', channel_stats['videoCount'])"
   ]
  },
  {
   "cell_type": "code",
   "execution_count": 4,
   "metadata": {},
   "outputs": [],
   "source": [
    "# Video Statistics\n",
    "sorted_vids = sorted(video_stats.items(), key=lambda item: int(item[1]['viewCount']), reverse=True)\n",
    "stats = []\n",
    "for vid in sorted_vids:\n",
    "    video_id = vid[0]\n",
    "    title = vid[1]['title']\n",
    "    views = int(vid[1]['viewCount'])\n",
    "    likes = int(vid[1]['likeCount'])\n",
    "    dislike = int(vid[1]['dislikeCount'])\n",
    "    comments = int(vid[1]['commentCount'])\n",
    "    stats.append([title, views, likes, dislike, comments])"
   ]
  },
  {
   "cell_type": "code",
   "execution_count": 5,
   "metadata": {},
   "outputs": [
    {
     "data": {
      "text/html": [
       "<div>\n",
       "<style scoped>\n",
       "    .dataframe tbody tr th:only-of-type {\n",
       "        vertical-align: middle;\n",
       "    }\n",
       "\n",
       "    .dataframe tbody tr th {\n",
       "        vertical-align: top;\n",
       "    }\n",
       "\n",
       "    .dataframe thead th {\n",
       "        text-align: right;\n",
       "    }\n",
       "</style>\n",
       "<table border=\"1\" class=\"dataframe\">\n",
       "  <thead>\n",
       "    <tr style=\"text-align: right;\">\n",
       "      <th></th>\n",
       "      <th>title</th>\n",
       "      <th>views</th>\n",
       "      <th>likes</th>\n",
       "      <th>dislike</th>\n",
       "      <th>comments</th>\n",
       "    </tr>\n",
       "  </thead>\n",
       "  <tbody>\n",
       "    <tr>\n",
       "      <th>0</th>\n",
       "      <td>Tuition Classes aur Bache | Ashish Chanchlani</td>\n",
       "      <td>75154741</td>\n",
       "      <td>2872128</td>\n",
       "      <td>87741</td>\n",
       "      <td>101392</td>\n",
       "    </tr>\n",
       "    <tr>\n",
       "      <th>1</th>\n",
       "      <td>PUBG : Ek Game Katha | Ashish Chanchlani</td>\n",
       "      <td>71078165</td>\n",
       "      <td>2114394</td>\n",
       "      <td>77782</td>\n",
       "      <td>112877</td>\n",
       "    </tr>\n",
       "    <tr>\n",
       "      <th>2</th>\n",
       "      <td>Exams Ka Mausam | Ashish Chanchlani</td>\n",
       "      <td>69946933</td>\n",
       "      <td>1969839</td>\n",
       "      <td>43158</td>\n",
       "      <td>79993</td>\n",
       "    </tr>\n",
       "    <tr>\n",
       "      <th>3</th>\n",
       "      <td>Science Vs Commerce | Chapter 1 | Ashish Chanc...</td>\n",
       "      <td>56780634</td>\n",
       "      <td>1939462</td>\n",
       "      <td>63296</td>\n",
       "      <td>60754</td>\n",
       "    </tr>\n",
       "    <tr>\n",
       "      <th>4</th>\n",
       "      <td>Science Vs Commerce | Chapter 2 | Ashish Chanc...</td>\n",
       "      <td>52354224</td>\n",
       "      <td>2055135</td>\n",
       "      <td>42878</td>\n",
       "      <td>103375</td>\n",
       "    </tr>\n",
       "    <tr>\n",
       "      <th>5</th>\n",
       "      <td>Meri Pyaari Behna?  | Ashish Chanchlani | Musk...</td>\n",
       "      <td>48965562</td>\n",
       "      <td>1633800</td>\n",
       "      <td>38204</td>\n",
       "      <td>60398</td>\n",
       "    </tr>\n",
       "    <tr>\n",
       "      <th>6</th>\n",
       "      <td>Garmi Ke Side-Effects | Ashish Chanchlani</td>\n",
       "      <td>47902411</td>\n",
       "      <td>1795344</td>\n",
       "      <td>48930</td>\n",
       "      <td>50409</td>\n",
       "    </tr>\n",
       "    <tr>\n",
       "      <th>7</th>\n",
       "      <td>Baap Bijli Aur Bill Ft. Shahid Kapoor | Ashish...</td>\n",
       "      <td>47855869</td>\n",
       "      <td>2137985</td>\n",
       "      <td>47550</td>\n",
       "      <td>58325</td>\n",
       "    </tr>\n",
       "    <tr>\n",
       "      <th>8</th>\n",
       "      <td>Diwali Har Ghar Ki | Ashish Chanchlani</td>\n",
       "      <td>46085359</td>\n",
       "      <td>1816006</td>\n",
       "      <td>60619</td>\n",
       "      <td>88750</td>\n",
       "    </tr>\n",
       "    <tr>\n",
       "      <th>9</th>\n",
       "      <td>Types Of People During Indian Weddings - PART ...</td>\n",
       "      <td>43690163</td>\n",
       "      <td>1163887</td>\n",
       "      <td>33220</td>\n",
       "      <td>23559</td>\n",
       "    </tr>\n",
       "  </tbody>\n",
       "</table>\n",
       "</div>"
      ],
      "text/plain": [
       "                                               title     views    likes  \\\n",
       "0      Tuition Classes aur Bache | Ashish Chanchlani  75154741  2872128   \n",
       "1           PUBG : Ek Game Katha | Ashish Chanchlani  71078165  2114394   \n",
       "2                Exams Ka Mausam | Ashish Chanchlani  69946933  1969839   \n",
       "3  Science Vs Commerce | Chapter 1 | Ashish Chanc...  56780634  1939462   \n",
       "4  Science Vs Commerce | Chapter 2 | Ashish Chanc...  52354224  2055135   \n",
       "5  Meri Pyaari Behna?  | Ashish Chanchlani | Musk...  48965562  1633800   \n",
       "6          Garmi Ke Side-Effects | Ashish Chanchlani  47902411  1795344   \n",
       "7  Baap Bijli Aur Bill Ft. Shahid Kapoor | Ashish...  47855869  2137985   \n",
       "8             Diwali Har Ghar Ki | Ashish Chanchlani  46085359  1816006   \n",
       "9  Types Of People During Indian Weddings - PART ...  43690163  1163887   \n",
       "\n",
       "   dislike  comments  \n",
       "0    87741    101392  \n",
       "1    77782    112877  \n",
       "2    43158     79993  \n",
       "3    63296     60754  \n",
       "4    42878    103375  \n",
       "5    38204     60398  \n",
       "6    48930     50409  \n",
       "7    47550     58325  \n",
       "8    60619     88750  \n",
       "9    33220     23559  "
      ]
     },
     "execution_count": 5,
     "metadata": {},
     "output_type": "execute_result"
    }
   ],
   "source": [
    "# Let's convert all this into Dataframes\n",
    "df = pd.DataFrame(stats, columns=['title','views','likes','dislike','comments',])\n",
    "df.head(10)"
   ]
  },
  {
   "cell_type": "code",
   "execution_count": 6,
   "metadata": {},
   "outputs": [
    {
     "data": {
      "image/png": "[encoded data removed]",
      "text/plain": [
       "<Figure size 864x648 with 1 Axes>"
      ]
     },
     "metadata": {
      "needs_background": "light"
     },
     "output_type": "display_data"
    }
   ],
   "source": [
    "# let's plot for the bar graph of top 10 video\n",
    "\n",
    "top10 = df.head(10)\n",
    "barplot = top10.plot.bar(x = 'title', y='views', figsize=(12,9), fontsize=14)"
   ]
  },
  {
   "cell_type": "code",
   "execution_count": 7,
   "metadata": {},
   "outputs": [
    {
     "name": "stdout",
     "output_type": "stream",
     "text": [
      "Top 10\n",
      "Average Likes :- 1949798.0\n",
      "Average Dislikes :- 54337.8\n",
      "Average Comments :- 73983.2\n"
     ]
    }
   ],
   "source": [
    "# Avarage likes / dislikes\n",
    "likes_avg = top10['likes'].mean()\n",
    "dislike_avg = top10['dislike'].mean()\n",
    "comments_avg = top10['comments'].mean()\n",
    "print(\"Top 10\")\n",
    "print(\"Average Likes :-\",likes_avg)\n",
    "print(\"Average Dislikes :-\",dislike_avg)\n",
    "print(\"Average Comments :-\",comments_avg)"
   ]
  },
  {
   "cell_type": "code",
   "execution_count": 8,
   "metadata": {},
   "outputs": [
    {
     "name": "stdout",
     "output_type": "stream",
     "text": [
      "Average Likes :- 0    14.730387\n",
      "1    10.844169\n",
      "2    10.102785\n",
      "3     9.946989\n",
      "4    10.540246\n",
      "5     8.379330\n",
      "6     9.207846\n",
      "7    10.965162\n",
      "8     9.313816\n",
      "9     5.969270\n",
      "Name: likes, dtype: float64\n"
     ]
    }
   ],
   "source": [
    "# Percentage likes / dislikes\n",
    "likes_avg = top10['likes'] /top10['likes'].sum()*100\n",
    "\n",
    "print(\"Average Likes :-\",likes_avg)\n"
   ]
  },
  {
   "cell_type": "code",
   "execution_count": null,
   "metadata": {},
   "outputs": [],
   "source": []
  }
 ],
 "metadata": {
  "kernelspec": {
   "display_name": "Python 3",
   "language": "python",
   "name": "python3"
  },
  "language_info": {
   "codemirror_mode": {
    "name": "ipython",
    "version": 3
   },
   "file_extension": ".py",
   "mimetype": "text/x-python",
   "name": "python",
   "nbconvert_exporter": "python",
   "pygments_lexer": "ipython3",
   "version": "3.7.4"
  }
 },
 "nbformat": 4,
 "nbformat_minor": 4
}
